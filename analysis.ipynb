{
 "cells": [
  {
   "cell_type": "code",
   "execution_count": 2,
   "id": "8260d798-6609-4b8a-b775-9dd1a3954410",
   "metadata": {},
   "outputs": [],
   "source": [
    "import numpy as np\n",
    "import pandas as pd"
   ]
  },
  {
   "cell_type": "code",
   "execution_count": 6,
   "id": "f644d300-fd99-42a1-89ba-55e5c6eea044",
   "metadata": {},
   "outputs": [],
   "source": [
    "df = pd.read_csv('train_set.csv')"
   ]
  },
  {
   "cell_type": "code",
   "execution_count": 7,
   "id": "6bb56212-3d74-434d-9311-5f6ec081a23e",
   "metadata": {},
   "outputs": [
    {
     "data": {
      "text/html": [
       "<div>\n",
       "<style scoped>\n",
       "    .dataframe tbody tr th:only-of-type {\n",
       "        vertical-align: middle;\n",
       "    }\n",
       "\n",
       "    .dataframe tbody tr th {\n",
       "        vertical-align: top;\n",
       "    }\n",
       "\n",
       "    .dataframe thead th {\n",
       "        text-align: right;\n",
       "    }\n",
       "</style>\n",
       "<table border=\"1\" class=\"dataframe\">\n",
       "  <thead>\n",
       "    <tr style=\"text-align: right;\">\n",
       "      <th></th>\n",
       "      <th>Id</th>\n",
       "      <th>Product_Code</th>\n",
       "      <th>Product_Weight</th>\n",
       "      <th>Fat_Category</th>\n",
       "      <th>Visibility_Score</th>\n",
       "      <th>Category_Type</th>\n",
       "      <th>Retail_Price</th>\n",
       "      <th>Store_Code</th>\n",
       "      <th>Year_Opened</th>\n",
       "      <th>Store_Size</th>\n",
       "      <th>Location_Class</th>\n",
       "      <th>Store_Category</th>\n",
       "      <th>Total_Sales</th>\n",
       "    </tr>\n",
       "  </thead>\n",
       "  <tbody>\n",
       "    <tr>\n",
       "      <th>0</th>\n",
       "      <td>1</td>\n",
       "      <td>FDI28</td>\n",
       "      <td>14.300</td>\n",
       "      <td>Reduced</td>\n",
       "      <td>0.026300</td>\n",
       "      <td>Frozen Foods</td>\n",
       "      <td>79.4302</td>\n",
       "      <td>OUT013</td>\n",
       "      <td>1987</td>\n",
       "      <td>Spacious</td>\n",
       "      <td>Rural</td>\n",
       "      <td>Superstore A</td>\n",
       "      <td>1743.0644</td>\n",
       "    </tr>\n",
       "    <tr>\n",
       "      <th>1</th>\n",
       "      <td>2</td>\n",
       "      <td>NCM17</td>\n",
       "      <td>7.930</td>\n",
       "      <td>Reduced</td>\n",
       "      <td>0.071136</td>\n",
       "      <td>Health and Hygiene</td>\n",
       "      <td>42.7086</td>\n",
       "      <td>OUT046</td>\n",
       "      <td>1997</td>\n",
       "      <td>Compact</td>\n",
       "      <td>Urban</td>\n",
       "      <td>Superstore A</td>\n",
       "      <td>356.8688</td>\n",
       "    </tr>\n",
       "    <tr>\n",
       "      <th>2</th>\n",
       "      <td>3</td>\n",
       "      <td>FDC14</td>\n",
       "      <td>14.500</td>\n",
       "      <td>Standard</td>\n",
       "      <td>0.041313</td>\n",
       "      <td>Canned</td>\n",
       "      <td>42.0454</td>\n",
       "      <td>OUT049</td>\n",
       "      <td>1999</td>\n",
       "      <td>Standard</td>\n",
       "      <td>Urban</td>\n",
       "      <td>Superstore A</td>\n",
       "      <td>377.5086</td>\n",
       "    </tr>\n",
       "    <tr>\n",
       "      <th>3</th>\n",
       "      <td>4</td>\n",
       "      <td>DRC36</td>\n",
       "      <td>NaN</td>\n",
       "      <td>Standard</td>\n",
       "      <td>0.044767</td>\n",
       "      <td>Beverages</td>\n",
       "      <td>173.7054</td>\n",
       "      <td>OUT027</td>\n",
       "      <td>1985</td>\n",
       "      <td>Standard</td>\n",
       "      <td>Rural</td>\n",
       "      <td>Superstore C</td>\n",
       "      <td>5778.4782</td>\n",
       "    </tr>\n",
       "    <tr>\n",
       "      <th>4</th>\n",
       "      <td>5</td>\n",
       "      <td>FDS27</td>\n",
       "      <td>10.195</td>\n",
       "      <td>Standard</td>\n",
       "      <td>0.012456</td>\n",
       "      <td>Proteins</td>\n",
       "      <td>197.5110</td>\n",
       "      <td>OUT035</td>\n",
       "      <td>2004</td>\n",
       "      <td>Compact</td>\n",
       "      <td>Suburban</td>\n",
       "      <td>Superstore A</td>\n",
       "      <td>2356.9320</td>\n",
       "    </tr>\n",
       "    <tr>\n",
       "      <th>...</th>\n",
       "      <td>...</td>\n",
       "      <td>...</td>\n",
       "      <td>...</td>\n",
       "      <td>...</td>\n",
       "      <td>...</td>\n",
       "      <td>...</td>\n",
       "      <td>...</td>\n",
       "      <td>...</td>\n",
       "      <td>...</td>\n",
       "      <td>...</td>\n",
       "      <td>...</td>\n",
       "      <td>...</td>\n",
       "      <td>...</td>\n",
       "    </tr>\n",
       "    <tr>\n",
       "      <th>7745</th>\n",
       "      <td>7746</td>\n",
       "      <td>FDK24</td>\n",
       "      <td>9.195</td>\n",
       "      <td>Reduced</td>\n",
       "      <td>0.101500</td>\n",
       "      <td>Baking Goods</td>\n",
       "      <td>45.2744</td>\n",
       "      <td>OUT045</td>\n",
       "      <td>2002</td>\n",
       "      <td>NaN</td>\n",
       "      <td>Suburban</td>\n",
       "      <td>Superstore A</td>\n",
       "      <td>679.1160</td>\n",
       "    </tr>\n",
       "    <tr>\n",
       "      <th>7746</th>\n",
       "      <td>7747</td>\n",
       "      <td>FDX33</td>\n",
       "      <td>9.195</td>\n",
       "      <td>Standard</td>\n",
       "      <td>0.117485</td>\n",
       "      <td>Snack Foods</td>\n",
       "      <td>158.5578</td>\n",
       "      <td>OUT046</td>\n",
       "      <td>1997</td>\n",
       "      <td>Compact</td>\n",
       "      <td>Urban</td>\n",
       "      <td>Superstore A</td>\n",
       "      <td>2406.8670</td>\n",
       "    </tr>\n",
       "    <tr>\n",
       "      <th>7747</th>\n",
       "      <td>7748</td>\n",
       "      <td>FDM45</td>\n",
       "      <td>8.655</td>\n",
       "      <td>Standard</td>\n",
       "      <td>0.088195</td>\n",
       "      <td>Snack Foods</td>\n",
       "      <td>119.6756</td>\n",
       "      <td>OUT046</td>\n",
       "      <td>1997</td>\n",
       "      <td>Compact</td>\n",
       "      <td>Urban</td>\n",
       "      <td>Superstore A</td>\n",
       "      <td>2423.5120</td>\n",
       "    </tr>\n",
       "    <tr>\n",
       "      <th>7748</th>\n",
       "      <td>7749</td>\n",
       "      <td>FDU45</td>\n",
       "      <td>NaN</td>\n",
       "      <td>Standard</td>\n",
       "      <td>0.035334</td>\n",
       "      <td>Snack Foods</td>\n",
       "      <td>115.3518</td>\n",
       "      <td>OUT027</td>\n",
       "      <td>1985</td>\n",
       "      <td>Standard</td>\n",
       "      <td>Rural</td>\n",
       "      <td>Superstore C</td>\n",
       "      <td>2277.0360</td>\n",
       "    </tr>\n",
       "    <tr>\n",
       "      <th>7749</th>\n",
       "      <td>7750</td>\n",
       "      <td>FDR44</td>\n",
       "      <td>6.110</td>\n",
       "      <td>Standard</td>\n",
       "      <td>0.102921</td>\n",
       "      <td>Produce</td>\n",
       "      <td>130.4968</td>\n",
       "      <td>OUT046</td>\n",
       "      <td>1997</td>\n",
       "      <td>Compact</td>\n",
       "      <td>Urban</td>\n",
       "      <td>Superstore A</td>\n",
       "      <td>3523.4136</td>\n",
       "    </tr>\n",
       "  </tbody>\n",
       "</table>\n",
       "<p>7750 rows × 13 columns</p>\n",
       "</div>"
      ],
      "text/plain": [
       "        Id Product_Code  Product_Weight Fat_Category  Visibility_Score  \\\n",
       "0        1        FDI28          14.300      Reduced          0.026300   \n",
       "1        2        NCM17           7.930      Reduced          0.071136   \n",
       "2        3        FDC14          14.500     Standard          0.041313   \n",
       "3        4        DRC36             NaN     Standard          0.044767   \n",
       "4        5        FDS27          10.195     Standard          0.012456   \n",
       "...    ...          ...             ...          ...               ...   \n",
       "7745  7746        FDK24           9.195      Reduced          0.101500   \n",
       "7746  7747        FDX33           9.195     Standard          0.117485   \n",
       "7747  7748        FDM45           8.655     Standard          0.088195   \n",
       "7748  7749        FDU45             NaN     Standard          0.035334   \n",
       "7749  7750        FDR44           6.110     Standard          0.102921   \n",
       "\n",
       "           Category_Type  Retail_Price Store_Code  Year_Opened Store_Size  \\\n",
       "0           Frozen Foods       79.4302     OUT013         1987   Spacious   \n",
       "1     Health and Hygiene       42.7086     OUT046         1997    Compact   \n",
       "2                 Canned       42.0454     OUT049         1999   Standard   \n",
       "3              Beverages      173.7054     OUT027         1985   Standard   \n",
       "4               Proteins      197.5110     OUT035         2004    Compact   \n",
       "...                  ...           ...        ...          ...        ...   \n",
       "7745        Baking Goods       45.2744     OUT045         2002        NaN   \n",
       "7746         Snack Foods      158.5578     OUT046         1997    Compact   \n",
       "7747         Snack Foods      119.6756     OUT046         1997    Compact   \n",
       "7748         Snack Foods      115.3518     OUT027         1985   Standard   \n",
       "7749             Produce      130.4968     OUT046         1997    Compact   \n",
       "\n",
       "     Location_Class Store_Category  Total_Sales  \n",
       "0             Rural   Superstore A    1743.0644  \n",
       "1             Urban   Superstore A     356.8688  \n",
       "2             Urban   Superstore A     377.5086  \n",
       "3             Rural   Superstore C    5778.4782  \n",
       "4          Suburban   Superstore A    2356.9320  \n",
       "...             ...            ...          ...  \n",
       "7745       Suburban   Superstore A     679.1160  \n",
       "7746          Urban   Superstore A    2406.8670  \n",
       "7747          Urban   Superstore A    2423.5120  \n",
       "7748          Rural   Superstore C    2277.0360  \n",
       "7749          Urban   Superstore A    3523.4136  \n",
       "\n",
       "[7750 rows x 13 columns]"
      ]
     },
     "execution_count": 7,
     "metadata": {},
     "output_type": "execute_result"
    }
   ],
   "source": [
    "df"
   ]
  },
  {
   "cell_type": "markdown",
   "id": "ba4b2b2f-f392-46e1-ba1b-0b4019a68605",
   "metadata": {},
   "source": [
    "---"
   ]
  },
  {
   "cell_type": "markdown",
   "id": "5b8cdfa2-599b-465f-a88f-80a1e0e4e826",
   "metadata": {},
   "source": [
    "## Cleaning the Data"
   ]
  },
  {
   "cell_type": "code",
   "execution_count": 9,
   "id": "3615dee0-ecbe-4736-a0a8-92751fe4b18d",
   "metadata": {},
   "outputs": [
    {
     "name": "stdout",
     "output_type": "stream",
     "text": [
      "<class 'pandas.core.frame.DataFrame'>\n",
      "RangeIndex: 7750 entries, 0 to 7749\n",
      "Data columns (total 13 columns):\n",
      " #   Column            Non-Null Count  Dtype  \n",
      "---  ------            --------------  -----  \n",
      " 0   Id                7750 non-null   int64  \n",
      " 1   Product_Code      7750 non-null   object \n",
      " 2   Product_Weight    6424 non-null   float64\n",
      " 3   Fat_Category      7750 non-null   object \n",
      " 4   Visibility_Score  7750 non-null   float64\n",
      " 5   Category_Type     7750 non-null   object \n",
      " 6   Retail_Price      7750 non-null   float64\n",
      " 7   Store_Code        7750 non-null   object \n",
      " 8   Year_Opened       7750 non-null   int64  \n",
      " 9   Store_Size        5565 non-null   object \n",
      " 10  Location_Class    7750 non-null   object \n",
      " 11  Store_Category    7750 non-null   object \n",
      " 12  Total_Sales       7750 non-null   float64\n",
      "dtypes: float64(4), int64(2), object(7)\n",
      "memory usage: 787.2+ KB\n"
     ]
    }
   ],
   "source": [
    "# checking the number of non-null values in each coloumn\n",
    "df.info()"
   ]
  },
  {
   "cell_type": "markdown",
   "id": "ae3498e7-6ed1-47a7-8741-0acd7e0968f9",
   "metadata": {},
   "source": [
    "### We can see that in the Product_Weight and Store_Size column, we have a few null values. Therefore, let us deal with those first."
   ]
  },
  {
   "cell_type": "markdown",
   "id": "73ef49b9-f26c-4ae7-83ae-f1c5e066bc29",
   "metadata": {},
   "source": [
    "***Since Product_Weight contains values of float type, therefore the best approach would be to replace the null values with the mean of the rest of the values in the coloumn***"
   ]
  },
  {
   "cell_type": "code",
   "execution_count": 10,
   "id": "b0a8b1f8-40d4-4781-bee7-c80d9bc1a72c",
   "metadata": {},
   "outputs": [
    {
     "data": {
      "text/plain": [
       "np.float64(12.850448318804483)"
      ]
     },
     "execution_count": 10,
     "metadata": {},
     "output_type": "execute_result"
    }
   ],
   "source": [
    "mean_Product_Weight = df[\"Product_Weight\"].mean()\n",
    "mean_Product_Weight"
   ]
  },
  {
   "cell_type": "code",
   "execution_count": 14,
   "id": "f19cac9e-2a1f-4ccc-b38d-d7059aa79aac",
   "metadata": {},
   "outputs": [],
   "source": [
    "df['Product_Weight'] = df['Product_Weight'].fillna(mean_Product_Weight)"
   ]
  },
  {
   "cell_type": "code",
   "execution_count": 15,
   "id": "ca6aafaa-34b0-4bb7-821d-adfc23ceba7b",
   "metadata": {},
   "outputs": [
    {
     "name": "stdout",
     "output_type": "stream",
     "text": [
      "<class 'pandas.core.frame.DataFrame'>\n",
      "RangeIndex: 7750 entries, 0 to 7749\n",
      "Data columns (total 13 columns):\n",
      " #   Column            Non-Null Count  Dtype  \n",
      "---  ------            --------------  -----  \n",
      " 0   Id                7750 non-null   int64  \n",
      " 1   Product_Code      7750 non-null   object \n",
      " 2   Product_Weight    7750 non-null   float64\n",
      " 3   Fat_Category      7750 non-null   object \n",
      " 4   Visibility_Score  7750 non-null   float64\n",
      " 5   Category_Type     7750 non-null   object \n",
      " 6   Retail_Price      7750 non-null   float64\n",
      " 7   Store_Code        7750 non-null   object \n",
      " 8   Year_Opened       7750 non-null   int64  \n",
      " 9   Store_Size        5565 non-null   object \n",
      " 10  Location_Class    7750 non-null   object \n",
      " 11  Store_Category    7750 non-null   object \n",
      " 12  Total_Sales       7750 non-null   float64\n",
      "dtypes: float64(4), int64(2), object(7)\n",
      "memory usage: 787.2+ KB\n"
     ]
    }
   ],
   "source": [
    "df.info()"
   ]
  },
  {
   "cell_type": "markdown",
   "id": "5c61485d-b8f0-4a14-9daa-4588232508e3",
   "metadata": {},
   "source": [
    "***The Store_Size coloumn is made up of a uniue datatype object. Therefore , the best best approach would be to remove all the rows that have a null value***"
   ]
  },
  {
   "cell_type": "code",
   "execution_count": 16,
   "id": "36b4ba4b-c779-4688-9701-fa0bb960eaa8",
   "metadata": {},
   "outputs": [],
   "source": [
    "df = df.dropna()"
   ]
  },
  {
   "cell_type": "code",
   "execution_count": 17,
   "id": "599ea69f-51ac-4354-a28f-cc6593f8e372",
   "metadata": {},
   "outputs": [
    {
     "name": "stdout",
     "output_type": "stream",
     "text": [
      "<class 'pandas.core.frame.DataFrame'>\n",
      "Index: 5565 entries, 0 to 7749\n",
      "Data columns (total 13 columns):\n",
      " #   Column            Non-Null Count  Dtype  \n",
      "---  ------            --------------  -----  \n",
      " 0   Id                5565 non-null   int64  \n",
      " 1   Product_Code      5565 non-null   object \n",
      " 2   Product_Weight    5565 non-null   float64\n",
      " 3   Fat_Category      5565 non-null   object \n",
      " 4   Visibility_Score  5565 non-null   float64\n",
      " 5   Category_Type     5565 non-null   object \n",
      " 6   Retail_Price      5565 non-null   float64\n",
      " 7   Store_Code        5565 non-null   object \n",
      " 8   Year_Opened       5565 non-null   int64  \n",
      " 9   Store_Size        5565 non-null   object \n",
      " 10  Location_Class    5565 non-null   object \n",
      " 11  Store_Category    5565 non-null   object \n",
      " 12  Total_Sales       5565 non-null   float64\n",
      "dtypes: float64(4), int64(2), object(7)\n",
      "memory usage: 608.7+ KB\n"
     ]
    }
   ],
   "source": [
    "df.info()"
   ]
  },
  {
   "cell_type": "code",
   "execution_count": null,
   "id": "4c04782c-e8ea-4694-aaee-2a3b8a97a244",
   "metadata": {},
   "outputs": [],
   "source": []
  }
 ],
 "metadata": {
  "kernelspec": {
   "display_name": "Python 3 (ipykernel)",
   "language": "python",
   "name": "python3"
  },
  "language_info": {
   "codemirror_mode": {
    "name": "ipython",
    "version": 3
   },
   "file_extension": ".py",
   "mimetype": "text/x-python",
   "name": "python",
   "nbconvert_exporter": "python",
   "pygments_lexer": "ipython3",
   "version": "3.12.7"
  }
 },
 "nbformat": 4,
 "nbformat_minor": 5
}
